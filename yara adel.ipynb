{
 "cells": [
  {
   "cell_type": "code",
   "execution_count": 1,
   "id": "65830bf9",
   "metadata": {},
   "outputs": [],
   "source": [
    "import cv2\n",
    "import numpy as np"
   ]
  },
  {
   "cell_type": "code",
   "execution_count": 2,
   "id": "1ad27346",
   "metadata": {},
   "outputs": [],
   "source": [
    "out= cv2.imread(\"C:/Users/moree/Downloads/images/img1.png\")"
   ]
  },
  {
   "cell_type": "code",
   "execution_count": 3,
   "id": "affea2fa",
   "metadata": {},
   "outputs": [],
   "source": [
    "Rout=cv2.resize(out,(600,600))"
   ]
  },
  {
   "cell_type": "code",
   "execution_count": null,
   "id": "79d1b421",
   "metadata": {},
   "outputs": [],
   "source": [
    "brighter_image = cv2.add(out, 50 )\n",
    "\n",
    "darker_image = cv2.subtract(out, 60 )\n",
    "\n",
    "cv2.imshow('Brighter Image', brighter_image)\n",
    "cv2.imshow('Darker Image', darker_image)\n",
    "\n",
    "cv2.waitKey(0)"
   ]
  },
  {
   "cell_type": "code",
   "execution_count": null,
   "id": "e159cf75",
   "metadata": {},
   "outputs": [],
   "source": []
  }
 ],
 "metadata": {
  "kernelspec": {
   "display_name": "Python 3 (ipykernel)",
   "language": "python",
   "name": "python3"
  },
  "language_info": {
   "codemirror_mode": {
    "name": "ipython",
    "version": 3
   },
   "file_extension": ".py",
   "mimetype": "text/x-python",
   "name": "python",
   "nbconvert_exporter": "python",
   "pygments_lexer": "ipython3",
   "version": "3.9.13"
  }
 },
 "nbformat": 4,
 "nbformat_minor": 5
}
